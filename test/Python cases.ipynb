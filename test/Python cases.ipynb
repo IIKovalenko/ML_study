{
 "cells": [
  {
   "cell_type": "code",
   "execution_count": 2,
   "metadata": {
    "collapsed": false
   },
   "outputs": [
    {
     "name": "stdout",
     "output_type": "stream",
     "text": [
      "('list', 5)\n",
      "list 5\n"
     ]
    }
   ],
   "source": [
    "#если мы присваиваем переменной n значений через зпт, то ей присваевается кортеж этих значений.\n",
    "a = 'list', 5\n",
    "print a\n",
    "#если же мы присваиваем этот кортеж n переменным, то каждой переменной присвоется свой элемент по порядку.\n",
    "a , b = 'list', 5\n",
    "print a, b"
   ]
  },
  {
   "cell_type": "code",
   "execution_count": 4,
   "metadata": {
    "collapsed": false
   },
   "outputs": [
    {
     "data": {
      "text/plain": [
       "14"
      ]
     },
     "execution_count": 4,
     "metadata": {},
     "output_type": "execute_result"
    }
   ],
   "source": [
    "#самый быстрый способ перемножить элементы нумпай массива и проссумировать (скалярной произв.), работает быстрее чем \n",
    "#(na*na).sum()\n",
    "import numpy as np\n",
    "na = np.array([1,2,3])\n",
    "na.dot(na)"
   ]
  },
  {
   "cell_type": "code",
   "execution_count": 7,
   "metadata": {
    "collapsed": false
   },
   "outputs": [
    {
     "name": "stdout",
     "output_type": "stream",
     "text": [
      " 0 ktfk\n",
      "1 True\n",
      "2 34\n",
      "3 54.05\n",
      "0 lefk\n",
      "1 fgkk\n",
      "2 r43t\n",
      "3 city\n",
      "0 yy\n",
      "1 adf\n",
      "2 45\n",
      "3 445\n",
      "spyder 8\n",
      "dog 4\n",
      "man 2\n"
     ]
    }
   ],
   "source": [
    "#работа с функциями enumerate() и iteritems()\n",
    "#для массивов, кортежей и множеств enumerate возвращает кортежи (индекс, элемент), это удобно использовать в циклах\n",
    "test_array = ['ktfk', True, 34, 54.05]\n",
    "for a, b in enumerate(test_array): \n",
    "    print a, b\n",
    "    \n",
    "test_tuple = ('lefk', 'fgkk', 'r43t', 'city')\n",
    "for idx, element in enumerate(test_tuple):\n",
    "    print idx, element\n",
    "\n",
    "test_set = {'adf', 'yy', '445', 45}\n",
    "for idx, element in enumerate(test_set):\n",
    "    print idx, element\n",
    "#для словарей же существует метод .iteritems(), который возвращает кортежи (ключ, значение)\n",
    "test_dict = {'man':'2', 'dog':'4', 'spyder':'8'}\n",
    "for animal, legs in test_dict.iteritems():\n",
    "    print animal, legs"
   ]
  },
  {
   "cell_type": "code",
   "execution_count": 11,
   "metadata": {
    "collapsed": false
   },
   "outputs": [
    {
     "name": "stdout",
     "output_type": "stream",
     "text": [
      "spyder has 8 legs\n",
      "dog has 4 legs\n",
      "man has 2 legs\n"
     ]
    },
    {
     "data": {
      "text/plain": [
       "'Masha has 5 friends'"
      ]
     },
     "execution_count": 11,
     "metadata": {},
     "output_type": "execute_result"
    }
   ],
   "source": [
    "#использование символа '%' и метода .format() (как альтернативные)\n",
    "for animal, n_legs in test_dict.iteritems():\n",
    "    print '%s has %s legs' % (animal, n_legs)\n",
    "\n",
    "a = 5\n",
    "'Masha has {} friends'.format(a)"
   ]
  },
  {
   "cell_type": "code",
   "execution_count": 1,
   "metadata": {
    "collapsed": false
   },
   "outputs": [
    {
     "data": {
      "text/plain": [
       "(array([3]),)"
      ]
     },
     "execution_count": 1,
     "metadata": {},
     "output_type": "execute_result"
    }
   ],
   "source": [
    "#способ получить индекс элемента numpy массива.\n",
    "import numpy as np\n",
    "a = np.arange(10)\n",
    "np.where(a == 3)"
   ]
  },
  {
   "cell_type": "code",
   "execution_count": null,
   "metadata": {
    "collapsed": true
   },
   "outputs": [],
   "source": []
  }
 ],
 "metadata": {
  "anaconda-cloud": {},
  "kernelspec": {
   "display_name": "Python 3",
   "language": "python",
   "name": "python3"
  },
  "language_info": {
   "codemirror_mode": {
    "name": "ipython",
    "version": 3
   },
   "file_extension": ".py",
   "mimetype": "text/x-python",
   "name": "python",
   "nbconvert_exporter": "python",
   "pygments_lexer": "ipython3",
   "version": "3.6.0"
  }
 },
 "nbformat": 4,
 "nbformat_minor": 0
}
