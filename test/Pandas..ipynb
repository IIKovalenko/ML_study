{
 "cells": [
  {
   "cell_type": "code",
   "execution_count": 3,
   "metadata": {
    "collapsed": true
   },
   "outputs": [],
   "source": [
    "import pandas as pd\n",
    "import numpy as np"
   ]
  },
  {
   "cell_type": "markdown",
   "metadata": {},
   "source": [
    "## pd.Series"
   ]
  },
  {
   "cell_type": "code",
   "execution_count": 4,
   "metadata": {
    "collapsed": true
   },
   "outputs": [],
   "source": [
    "#pd.Series это одномерная структура данных (если нам нужна не табличка а вектор). Ее общий вид выглядить так: pd.Series(data, index)\n",
    "#data может быть вызвана из массива нумпай и из словаря dict, indexу передается список индексов."
   ]
  },
  {
   "cell_type": "markdown",
   "metadata": {},
   "source": [
    "##### Как вызвать?"
   ]
  },
  {
   "cell_type": "code",
   "execution_count": 5,
   "metadata": {},
   "outputs": [
    {
     "name": "stdout",
     "output_type": "stream",
     "text": [
      "a   -0.175284\n",
      "b   -0.353459\n",
      "c    1.617414\n",
      "d   -1.150152\n",
      "e    0.097487\n",
      "dtype: float64\n",
      "0   -0.551867\n",
      "1    0.207360\n",
      "2   -0.269832\n",
      "3   -0.028506\n",
      "4   -0.497167\n",
      "dtype: float64\n"
     ]
    }
   ],
   "source": [
    "#Вызов pd.Series из np.ndarray\n",
    "s = pd.Series(np.random.randn(5), index=['a', 'b', 'c', 'd', 'e'])\n",
    "print s\n",
    "#Если индексы не передать то автоматически это будут числа от 0 до n-1\n",
    "s = pd.Series(np.random.randn(5))\n",
    "print s"
   ]
  },
  {
   "cell_type": "code",
   "execution_count": 6,
   "metadata": {},
   "outputs": [
    {
     "name": "stdout",
     "output_type": "stream",
     "text": [
      "a    1\n",
      "b    2\n",
      "c    3\n",
      "d    4\n",
      "dtype: int64\n",
      "b    2.0\n",
      "d    4.0\n",
      "c    3.0\n",
      "z    NaN\n",
      "a    1.0\n",
      "dtype: float64\n"
     ]
    }
   ],
   "source": [
    "#вызов pd.Series из dict(), в качестве индекса идут ключи словаря.\n",
    "test_dict = {'a':1, 'b':2, 'c':3, 'd':4}\n",
    "s = pd.Series(test_dict)\n",
    "print s\n",
    "#если же индексы переданы напрямую, то из словаря будут вытащены значения, соответствующие ключам из списка индекса\n",
    "#(если такого ключа в словаре нет, то передается NaN)\n",
    "s = pd.Series(test_dict, index = ['b', 'd', 'c', 'z', 'a'])\n",
    "print s"
   ]
  },
  {
   "cell_type": "code",
   "execution_count": 7,
   "metadata": {},
   "outputs": [
    {
     "name": "stdout",
     "output_type": "stream",
     "text": [
      "a    5.0\n",
      "b    5.0\n",
      "c    5.0\n",
      "d    5.0\n",
      "e    5.0\n",
      "dtype: float64\n"
     ]
    }
   ],
   "source": [
    "#так же можно вызвать series из одного числа. \n",
    "s = pd.Series(5.0, index=['a', 'b', 'c', 'd', 'e'])\n",
    "print s"
   ]
  },
  {
   "cell_type": "markdown",
   "metadata": {},
   "source": [
    "##### Что можно делать с уже существующим?"
   ]
  },
  {
   "cell_type": "code",
   "execution_count": 8,
   "metadata": {
    "collapsed": true
   },
   "outputs": [],
   "source": [
    "#Можно оперировать как с нумпай массивом."
   ]
  },
  {
   "cell_type": "code",
   "execution_count": 9,
   "metadata": {},
   "outputs": [
    {
     "name": "stdout",
     "output_type": "stream",
     "text": [
      "-1.33972649304\n",
      "a    0.695556\n",
      "b   -1.339726\n",
      "c   -0.691659\n",
      "d   -0.176742\n",
      "e    2.001735\n",
      "dtype: float64\n",
      "a    0.695556\n",
      "b   -1.339726\n",
      "c   -0.691659\n",
      "d   -0.176742\n",
      "dtype: float64\n",
      "e    2.001735\n",
      "d   -0.176742\n",
      "c   -0.691659\n",
      "b   -1.339726\n",
      "a    0.695556\n",
      "dtype: float64\n",
      "b   -1.339726\n",
      "c   -0.691659\n",
      "d   -0.176742\n",
      "dtype: float64\n"
     ]
    }
   ],
   "source": [
    "#вызывать и слайсить\n",
    "s = pd.Series(np.random.randn(5), index=['a', 'b', 'c', 'd', 'e'])\n",
    "print s[1]\n",
    "print s[0:10]\n",
    "print s[:-1]\n",
    "print s[::-1]\n",
    "print s[[1, 2, 3]]"
   ]
  },
  {
   "cell_type": "code",
   "execution_count": 10,
   "metadata": {},
   "outputs": [
    {
     "name": "stdout",
     "output_type": "stream",
     "text": [
      "a    0.695556\n",
      "e    2.001735\n",
      "dtype: float64\n",
      "a    2.004823\n",
      "b    0.261917\n",
      "c    0.500745\n",
      "d    0.837996\n",
      "e    7.401887\n",
      "dtype: float64\n",
      "0.489162493271\n"
     ]
    }
   ],
   "source": [
    "#использовать специальные функции\n",
    "print s[s>s.median()]\n",
    "print np.exp(s)\n",
    "print np.sum(s)"
   ]
  },
  {
   "cell_type": "code",
   "execution_count": 13,
   "metadata": {},
   "outputs": [
    {
     "name": "stdout",
     "output_type": "stream",
     "text": [
      "4\n",
      "a    0.483798\n",
      "b    1.794867\n",
      "c    0.478393\n",
      "d    0.031238\n",
      "e    4.006943\n",
      "dtype: float64\n",
      "a    1.391111\n",
      "b   -2.679453\n",
      "c   -1.383319\n",
      "d   -0.353485\n",
      "e    4.003470\n",
      "dtype: float64\n"
     ]
    }
   ],
   "source": [
    "#работать как с векторами\n",
    "print a.dot(b) #надо запустить следующую ячейку\n",
    "print s**2\n",
    "print s+s"
   ]
  },
  {
   "cell_type": "code",
   "execution_count": 14,
   "metadata": {},
   "outputs": [
    {
     "name": "stdout",
     "output_type": "stream",
     "text": [
      "a    3\n",
      "b    3\n",
      "c    3\n",
      "d    3\n",
      "dtype: int64\n"
     ]
    }
   ],
   "source": [
    "#Ключевое отличие от нумпай массива здесь в том, что сложение идет по индексам, а не по порядку\n",
    "test_nparray = np.arange(4)\n",
    "test_index = ['a', 'b', 'c', 'd']\n",
    "a = pd.Series(test_nparray, test_index)\n",
    "b = pd.Series(test_nparray, test_index[::-1])\n",
    "print a+b"
   ]
  },
  {
   "cell_type": "code",
   "execution_count": 15,
   "metadata": {},
   "outputs": [
    {
     "name": "stdout",
     "output_type": "stream",
     "text": [
      "0.695555661226\n",
      "2.00173501816\n",
      "True\n"
     ]
    }
   ],
   "source": [
    "#Можно оперировать как с dict()-like.\n",
    "print s['a']\n",
    "print s.get('e')\n",
    "print 'e' in s"
   ]
  },
  {
   "cell_type": "code",
   "execution_count": 16,
   "metadata": {},
   "outputs": [
    {
     "name": "stdout",
     "output_type": "stream",
     "text": [
      "something\n",
      "лалка\n"
     ]
    }
   ],
   "source": [
    "#Также есть атрибут name, он бывает оч полезен\n",
    "s = pd.Series(np.random.randn(5), name='something')\n",
    "print s.name\n",
    "print s.rename('лалка').name"
   ]
  },
  {
   "cell_type": "markdown",
   "metadata": {},
   "source": [
    "## DataFrame"
   ]
  },
  {
   "cell_type": "markdown",
   "metadata": {},
   "source": [
    "#### Как вызвать?"
   ]
  },
  {
   "cell_type": "code",
   "execution_count": 17,
   "metadata": {},
   "outputs": [
    {
     "name": "stdout",
     "output_type": "stream",
     "text": [
      "   one  two\n",
      "a  1.0  1.0\n",
      "b  2.0  2.0\n",
      "c  3.0  3.0\n",
      "d  4.0  4.0\n",
      "e  NaN  5.0\n"
     ]
    }
   ],
   "source": [
    "#Из dict() of series\n",
    "#Здесь columns формируются из ключей словаря, index формируется из объединенного \n",
    "#индекса всех Series.\n",
    "test_dict_of_series = {'one': pd.Series([1, 2, 3, 4], dtype=float, index=['a', 'b', 'c', 'd']),\n",
    "                       'two': pd.Series([1, 2, 3, 4, 5], dtype=float, index=['a', 'b', 'c', 'd', 'e'])}\n",
    "df = pd.DataFrame(test_dict_of_series)\n",
    "print df"
   ]
  },
  {
   "cell_type": "code",
   "execution_count": 18,
   "metadata": {},
   "outputs": [
    {
     "name": "stdout",
     "output_type": "stream",
     "text": [
      "   one  two three\n",
      "b  2.0  2.0   NaN\n",
      "c  3.0  3.0   NaN\n",
      "a  1.0  1.0   NaN\n"
     ]
    }
   ],
   "source": [
    "#columns и index можно задать непосредственно, тогда dataframe выцепит\n",
    "#соответствующие значения\n",
    "df = pd.DataFrame(test_dict_of_series, columns = ['one', 'two', 'three'], index = ['b', 'c', 'a'])\n",
    "print df"
   ]
  },
  {
   "cell_type": "code",
   "execution_count": 19,
   "metadata": {},
   "outputs": [
    {
     "name": "stdout",
     "output_type": "stream",
     "text": [
      "               one       two five\n",
      "object_0  0.141244 -1.199612  NaN\n",
      "object_1  0.891155 -0.256216  NaN\n",
      "object_2 -1.661578  0.757898  NaN\n",
      "object_3 -1.534709  1.121177  NaN\n",
      "object_4 -1.248140  0.675055  NaN\n",
      "   one\n",
      "0    1\n",
      "1    1\n",
      "2    1\n"
     ]
    }
   ],
   "source": [
    "#Из просто dict(); массивы должны быть одной длины.\n",
    "test_dict_2 = {'one': np.random.randn(5), \n",
    "               'two': np.random.randn(5), \n",
    "               'three': np.random.randn(5), \n",
    "               'four': np.random.randn(5)}\n",
    "df = pd.DataFrame(test_dict_2, index=['object_{}'.format(i) for i in xrange(5)], columns=['one', 'two', 'five'])\n",
    "print df\n",
    "#можно так же сделать dataframe из константного словаря, для этого надо указать индекс\n",
    "#в самом df\n",
    "df = pd.DataFrame({'one':1}, index=np.arange(3))\n",
    "print df"
   ]
  },
  {
   "cell_type": "code",
   "execution_count": 20,
   "metadata": {},
   "outputs": [
    {
     "name": "stdout",
     "output_type": "stream",
     "text": [
      "Int64Index([0, 1, 2], dtype='int64')\n",
      "Index([u'one'], dtype='object')\n"
     ]
    }
   ],
   "source": [
    "#для получения списка колонок и индекса можно испольховать аттрибут .index \n",
    "#и .columns\n",
    "print df.index\n",
    "print df.columns"
   ]
  },
  {
   "cell_type": "markdown",
   "metadata": {},
   "source": [
    "#### Выбор, срез элементов."
   ]
  },
  {
   "cell_type": "code",
   "execution_count": 21,
   "metadata": {
    "collapsed": true
   },
   "outputs": [],
   "source": [
    "df = pd.DataFrame(test_dict_2,\n",
    "                 index = ['a', 'b', 'c', 'd', 'e'],\n",
    "                 columns = test_dict_2.keys()[::-1])"
   ]
  },
  {
   "cell_type": "code",
   "execution_count": 22,
   "metadata": {},
   "outputs": [
    {
     "data": {
      "text/html": [
       "<div>\n",
       "<table border=\"1\" class=\"dataframe\">\n",
       "  <thead>\n",
       "    <tr style=\"text-align: right;\">\n",
       "      <th></th>\n",
       "      <th>one</th>\n",
       "      <th>two</th>\n",
       "      <th>three</th>\n",
       "      <th>four</th>\n",
       "    </tr>\n",
       "  </thead>\n",
       "  <tbody>\n",
       "    <tr>\n",
       "      <th>a</th>\n",
       "      <td>0.141244</td>\n",
       "      <td>-1.199612</td>\n",
       "      <td>-0.808370</td>\n",
       "      <td>0.370048</td>\n",
       "    </tr>\n",
       "    <tr>\n",
       "      <th>b</th>\n",
       "      <td>0.891155</td>\n",
       "      <td>-0.256216</td>\n",
       "      <td>-0.381078</td>\n",
       "      <td>-0.134020</td>\n",
       "    </tr>\n",
       "    <tr>\n",
       "      <th>c</th>\n",
       "      <td>-1.661578</td>\n",
       "      <td>0.757898</td>\n",
       "      <td>0.407379</td>\n",
       "      <td>1.138470</td>\n",
       "    </tr>\n",
       "    <tr>\n",
       "      <th>d</th>\n",
       "      <td>-1.534709</td>\n",
       "      <td>1.121177</td>\n",
       "      <td>-1.142338</td>\n",
       "      <td>-0.330281</td>\n",
       "    </tr>\n",
       "    <tr>\n",
       "      <th>e</th>\n",
       "      <td>-1.248140</td>\n",
       "      <td>0.675055</td>\n",
       "      <td>1.258619</td>\n",
       "      <td>-0.827133</td>\n",
       "    </tr>\n",
       "  </tbody>\n",
       "</table>\n",
       "</div>"
      ],
      "text/plain": [
       "        one       two     three      four\n",
       "a  0.141244 -1.199612 -0.808370  0.370048\n",
       "b  0.891155 -0.256216 -0.381078 -0.134020\n",
       "c -1.661578  0.757898  0.407379  1.138470\n",
       "d -1.534709  1.121177 -1.142338 -0.330281\n",
       "e -1.248140  0.675055  1.258619 -0.827133"
      ]
     },
     "execution_count": 22,
     "metadata": {},
     "output_type": "execute_result"
    }
   ],
   "source": [
    "df"
   ]
  },
  {
   "cell_type": "code",
   "execution_count": 23,
   "metadata": {},
   "outputs": [
    {
     "data": {
      "text/html": [
       "<div>\n",
       "<table border=\"1\" class=\"dataframe\">\n",
       "  <thead>\n",
       "    <tr style=\"text-align: right;\">\n",
       "      <th></th>\n",
       "      <th>one</th>\n",
       "      <th>two</th>\n",
       "      <th>three</th>\n",
       "      <th>four</th>\n",
       "    </tr>\n",
       "  </thead>\n",
       "  <tbody>\n",
       "    <tr>\n",
       "      <th>a</th>\n",
       "      <td>0.141244</td>\n",
       "      <td>NaN</td>\n",
       "      <td>NaN</td>\n",
       "      <td>0.370048</td>\n",
       "    </tr>\n",
       "    <tr>\n",
       "      <th>b</th>\n",
       "      <td>0.891155</td>\n",
       "      <td>NaN</td>\n",
       "      <td>NaN</td>\n",
       "      <td>NaN</td>\n",
       "    </tr>\n",
       "    <tr>\n",
       "      <th>c</th>\n",
       "      <td>NaN</td>\n",
       "      <td>0.757898</td>\n",
       "      <td>0.407379</td>\n",
       "      <td>1.138470</td>\n",
       "    </tr>\n",
       "    <tr>\n",
       "      <th>d</th>\n",
       "      <td>NaN</td>\n",
       "      <td>1.121177</td>\n",
       "      <td>NaN</td>\n",
       "      <td>NaN</td>\n",
       "    </tr>\n",
       "    <tr>\n",
       "      <th>e</th>\n",
       "      <td>NaN</td>\n",
       "      <td>0.675055</td>\n",
       "      <td>1.258619</td>\n",
       "      <td>NaN</td>\n",
       "    </tr>\n",
       "  </tbody>\n",
       "</table>\n",
       "</div>"
      ],
      "text/plain": [
       "        one       two     three      four\n",
       "a  0.141244       NaN       NaN  0.370048\n",
       "b  0.891155       NaN       NaN       NaN\n",
       "c       NaN  0.757898  0.407379  1.138470\n",
       "d       NaN  1.121177       NaN       NaN\n",
       "e       NaN  0.675055  1.258619       NaN"
      ]
     },
     "execution_count": 23,
     "metadata": {},
     "output_type": "execute_result"
    }
   ],
   "source": [
    "#выбор столбца и конкретных строк в столбце (по индексу и по лейблу)\n",
    "df['one']\n",
    "df['one'][1:3]\n",
    "df['one']['b':'c']\n",
    "df[['one', 'two']][1:4]\n",
    "df[[0,1,2,3]][1:4]\n",
    "#срез строк по индексу и по лейблу\n",
    "df[0:5]\n",
    "df['a':'e']\n",
    "#выбор через loc работает так же, как и для numpy массива\n",
    "#выбор строки по лейблу\n",
    "df.loc['a']\n",
    "#выбор среза строк по лейблу\n",
    "df.loc['a':'e']\n",
    "#выбор элемента или среза всей таблицы по лейблам\n",
    "df.loc['a', 'one']\n",
    "df.loc['a':'e', 'one':'three']\n",
    "df.loc[['a', 'b', 'e'], ['one', 'three']]\n",
    "#выбор элемента по индексам, а не лейблам работает через  iloc\n",
    "df.iloc[0, 1]\n",
    "df.iloc[0:4, 0:3]\n",
    "df.iloc[[0, 1, 4], [0, 3]]\n",
    "#быстрый выбор конкретного элемента\n",
    "df.at['a','one']\n",
    "df.iat[0,0]\n",
    "#можно также использовать булеан вектор для выбора\n",
    "df.loc[:, [True, False, True, False]]\n",
    "#для выбора всей таблицы, нужно использовать метод без спец.функций\n",
    "df[df>0]\n",
    "#ЗАМЕЧЕНИЕ(!): но вообще надо использовать специальные функции .loc, \n",
    "#.iloc, .at, .iat, чем как в примерах начала ячейки."
   ]
  },
  {
   "cell_type": "markdown",
   "metadata": {},
   "source": [
    "#### Добавление, удаление элементов."
   ]
  },
  {
   "cell_type": "code",
   "execution_count": 24,
   "metadata": {},
   "outputs": [],
   "source": [
    "#DataFrame можно использовать как обычный словарь. В данном случае мы можем\n",
    "#удобно удалять и добавлять только колонки\n",
    "df['three'] = abs(df['one'] * df['two'])\n",
    "df['flag'] = abs(df['one']) > 0.9\n",
    "#удалять можно через df.pop('') или через del\n",
    "del df['four']\n",
    "df.pop('three')\n",
    "#при добавлении series df выцепит соответствующие лейблы, в остальные\n",
    "#запишет NaN\n",
    "df['one_cut'] = df['one'][::2]\n",
    "#по умолчанию новая колонка добавляется в конец, чтобы добавить куда \n",
    "#хочешь, нужно использовать функцию insert()\n",
    "df.insert(2, 'insert_column', df['one']**2)"
   ]
  },
  {
   "cell_type": "code",
   "execution_count": 25,
   "metadata": {
    "collapsed": true
   },
   "outputs": [],
   "source": [
    "df.loc[7] = np.random.randn(len(df.columns))"
   ]
  },
  {
   "cell_type": "code",
   "execution_count": 26,
   "metadata": {},
   "outputs": [],
   "source": [
    "#Добавление и удаление столбцов и строк при помощи методов .loc\n",
    "\n",
    "#столбцы\n",
    "df.loc[:, 'new column'] = np.random.randn(len(df))\n",
    "df.loc[:, len(df.columns)] = np.random.randn(len(df))\n",
    "\n",
    "#строки\n",
    "df.loc['krewella'] = np.random.randn(len(df.columns))\n",
    "df.loc[len(df)] = np.random.randn(len(df.columns))\n",
    "#чтобы удалить строки используется метод drop\n",
    "df.drop([7, 'krewella'], axis=0, inplace=True)"
   ]
  },
  {
   "cell_type": "code",
   "execution_count": 27,
   "metadata": {},
   "outputs": [
    {
     "data": {
      "text/html": [
       "<div>\n",
       "<table border=\"1\" class=\"dataframe\">\n",
       "  <thead>\n",
       "    <tr style=\"text-align: right;\">\n",
       "      <th></th>\n",
       "      <th>one</th>\n",
       "      <th>two</th>\n",
       "      <th>insert_column</th>\n",
       "      <th>flag</th>\n",
       "      <th>one_cut</th>\n",
       "      <th>new column</th>\n",
       "      <th>6</th>\n",
       "    </tr>\n",
       "  </thead>\n",
       "  <tbody>\n",
       "    <tr>\n",
       "      <th>0</th>\n",
       "      <td>0.141244</td>\n",
       "      <td>-1.199612</td>\n",
       "      <td>0.019950</td>\n",
       "      <td>0.0</td>\n",
       "      <td>0.141244</td>\n",
       "      <td>-0.506009</td>\n",
       "      <td>0.908428</td>\n",
       "    </tr>\n",
       "    <tr>\n",
       "      <th>1</th>\n",
       "      <td>0.891155</td>\n",
       "      <td>-0.256216</td>\n",
       "      <td>0.794157</td>\n",
       "      <td>0.0</td>\n",
       "      <td>NaN</td>\n",
       "      <td>-1.031555</td>\n",
       "      <td>-0.802369</td>\n",
       "    </tr>\n",
       "    <tr>\n",
       "      <th>2</th>\n",
       "      <td>-1.661578</td>\n",
       "      <td>0.757898</td>\n",
       "      <td>2.760842</td>\n",
       "      <td>1.0</td>\n",
       "      <td>-1.661578</td>\n",
       "      <td>0.793924</td>\n",
       "      <td>-0.764702</td>\n",
       "    </tr>\n",
       "    <tr>\n",
       "      <th>3</th>\n",
       "      <td>-1.534709</td>\n",
       "      <td>1.121177</td>\n",
       "      <td>2.355333</td>\n",
       "      <td>1.0</td>\n",
       "      <td>NaN</td>\n",
       "      <td>0.202128</td>\n",
       "      <td>0.256836</td>\n",
       "    </tr>\n",
       "    <tr>\n",
       "      <th>4</th>\n",
       "      <td>-1.248140</td>\n",
       "      <td>0.675055</td>\n",
       "      <td>1.557854</td>\n",
       "      <td>1.0</td>\n",
       "      <td>-1.248140</td>\n",
       "      <td>-1.768138</td>\n",
       "      <td>1.801113</td>\n",
       "    </tr>\n",
       "    <tr>\n",
       "      <th>5</th>\n",
       "      <td>-1.534709</td>\n",
       "      <td>1.121177</td>\n",
       "      <td>2.355333</td>\n",
       "      <td>1.0</td>\n",
       "      <td>NaN</td>\n",
       "      <td>0.202128</td>\n",
       "      <td>0.256836</td>\n",
       "    </tr>\n",
       "  </tbody>\n",
       "</table>\n",
       "</div>"
      ],
      "text/plain": [
       "        one       two  insert_column  flag   one_cut  new column         6\n",
       "0  0.141244 -1.199612       0.019950   0.0  0.141244   -0.506009  0.908428\n",
       "1  0.891155 -0.256216       0.794157   0.0       NaN   -1.031555 -0.802369\n",
       "2 -1.661578  0.757898       2.760842   1.0 -1.661578    0.793924 -0.764702\n",
       "3 -1.534709  1.121177       2.355333   1.0       NaN    0.202128  0.256836\n",
       "4 -1.248140  0.675055       1.557854   1.0 -1.248140   -1.768138  1.801113\n",
       "5 -1.534709  1.121177       2.355333   1.0       NaN    0.202128  0.256836"
      ]
     },
     "execution_count": 27,
     "metadata": {},
     "output_type": "execute_result"
    }
   ],
   "source": [
    "#Добавление при помощи .append(). Добавляет новую строку к df по соответствующим колонкам. Если есть новые колонки, \n",
    "#просто создает эти новые колонки (тогда в остальных строках в этих колонках будут NaN). Ignore Index =true игнорирует\n",
    "#старую индексацию и оставлет просто численную индексацию по порядку.\n",
    "df.append(df.iloc[3], ignore_index=True)"
   ]
  },
  {
   "cell_type": "markdown",
   "metadata": {},
   "source": [
    "### Функции над DF"
   ]
  },
  {
   "cell_type": "code",
   "execution_count": 28,
   "metadata": {},
   "outputs": [
    {
     "name": "stdout",
     "output_type": "stream",
     "text": [
      "          A         B         C   D\n",
      "0 -0.354170 -2.206920  3.144032 NaN\n",
      "1 -0.784650 -0.718325  0.635752 NaN\n",
      "2  0.923649  1.336489 -0.048390 NaN\n",
      "3  0.220133 -1.053332 -0.384197 NaN\n",
      "4  0.885638 -0.464579  0.087320 NaN\n",
      "5 -0.121543 -3.419834 -0.610585 NaN\n",
      "6 -2.657893 -1.278512  1.190435 NaN\n",
      "7       NaN       NaN       NaN NaN\n",
      "8       NaN       NaN       NaN NaN\n",
      "9       NaN       NaN       NaN NaN\n"
     ]
    }
   ],
   "source": [
    "#Сложение двух df-ов происходит поэлементно, \n",
    "#по соответствующим парам (индекс, колонка)\n",
    "df1 = pd.DataFrame(np.random.randn(10, 4), columns=list('ABCD'))\n",
    "df2 = pd.DataFrame(np.random.randn(7,3), columns=list('ABC'))\n",
    "print df1 + df2"
   ]
  },
  {
   "cell_type": "code",
   "execution_count": 29,
   "metadata": {},
   "outputs": [
    {
     "name": "stdout",
     "output_type": "stream",
     "text": [
      "        one       two  insert_column  flag   one_cut  new column         6\n",
      "a  0.282487 -2.399224       0.039900   0.0  0.282487   -1.012018  1.816857\n",
      "b  1.032399 -1.455829       0.814107   0.0       NaN   -1.537564  0.106059\n",
      "c -1.520334 -0.441714       2.780792   1.0 -1.520334    0.287915  0.143726\n",
      "d -1.393466 -0.078435       2.375283   1.0       NaN   -0.303881  1.165265\n",
      "e -1.106897 -0.524557       1.577804   1.0 -1.106897   -2.274147  2.709541\n"
     ]
    }
   ],
   "source": [
    "#Суммирование идет построчно(!)\n",
    "print (df + df.iloc[0])\n",
    "#Нельзя написать df + df['one'], ожидая, что пройдет суммирование по столб.\n",
    "#чтобы просуммировать по столбцам, надо использовать цикл.\n",
    "for column in df.columns:\n",
    "    df[column] = df[column] + df['one']"
   ]
  },
  {
   "cell_type": "code",
   "execution_count": 30,
   "metadata": {},
   "outputs": [
    {
     "name": "stdout",
     "output_type": "stream",
     "text": [
      "         one        two  insert_column       flag    one_cut  new column  \\\n",
      "a  -5.587564 -11.585625      -5.487815  -5.587564  -4.881346   -8.117609   \n",
      "b   1.911551   0.630469       5.882337   1.911551        NaN   -3.246224   \n",
      "c -23.615781 -19.826290      -9.811572 -18.615781 -31.923671  -19.646163   \n",
      "d -22.347095 -16.741208     -10.570429 -17.347095        NaN  -21.336455   \n",
      "e -19.481403 -16.106129     -11.692132 -14.481403 -25.722105  -28.322091   \n",
      "\n",
      "           6  \n",
      "a  -1.045422  \n",
      "b  -2.100297  \n",
      "c -27.439292  \n",
      "d -21.062913  \n",
      "e -10.475840  \n",
      "        one       two  insert_column      flag   one_cut  new column         6\n",
      "a  3.539983 -1.090364       3.306473  3.539983  2.359988   -4.473836  0.839690\n",
      "b  0.561070  0.655268       0.388128  0.561070       NaN    1.331992  1.020470\n",
      "c -0.300919 -0.389824      -1.778364 -0.430449 -0.200612   -0.395377 -0.244627\n",
      "d -0.325795 -0.513283      -1.400392 -0.483227       NaN   -0.348761 -0.355545\n",
      "e -0.400596 -0.549081      -1.065614 -0.668324 -0.267064   -0.234499 -1.438501\n",
      "         one       two  insert_column      flag    one_cut  new column  \\\n",
      "a   0.079799  0.841118       0.091468  0.079799   0.179548    0.049962   \n",
      "b   3.176629  2.328962       6.638185  3.176629        NaN    0.563633   \n",
      "c  11.043367  6.580548       0.316198  5.397055  24.847576    6.397018   \n",
      "d   9.421332  3.795645       0.509919  4.282495        NaN    8.221357   \n",
      "e   6.231417  3.316863       0.880644  2.238856  14.020688   18.185262   \n",
      "\n",
      "           6  \n",
      "a   1.418280  \n",
      "b   0.960284  \n",
      "c  16.710586  \n",
      "d   7.910621  \n",
      "e   0.483258  \n"
     ]
    }
   ],
   "source": [
    "#Со скалярами df работает очевидно\n",
    "print df*5 - 7\n",
    "print 1/df\n",
    "print df**2"
   ]
  },
  {
   "cell_type": "code",
   "execution_count": 31,
   "metadata": {},
   "outputs": [
    {
     "name": "stdout",
     "output_type": "stream",
     "text": [
      "       a      b\n",
      "0  False  False\n",
      "1   True  False\n",
      "2  False   True\n",
      "       a      b\n",
      "0  False   True\n",
      "1   True  False\n",
      "2   True   True\n",
      "       a      b\n",
      "0   True  False\n",
      "1  False   True\n",
      "2  False  False\n",
      "       a      b\n",
      "0  False   True\n",
      "1  False  False\n",
      "2   True  False\n"
     ]
    }
   ],
   "source": [
    "#Так же можно делать и логические операции\n",
    "df1 = pd.DataFrame({'a': [0,1,1], 'b': [1,0,1]}, dtype=bool)\n",
    "df2 = pd.DataFrame({'a': [0,1,0], 'b': [0,0,1]}, dtype=bool)\n",
    "print df1 & df2\n",
    "print df1 | df2\n",
    "print -df1\n",
    "print df1^df2"
   ]
  },
  {
   "cell_type": "code",
   "execution_count": 32,
   "metadata": {},
   "outputs": [
    {
     "name": "stdout",
     "output_type": "stream",
     "text": [
      "        one       two  insert_column      flag   one_cut  new column         6\n",
      "a  1.326425  0.399666       1.353152  1.326425  1.527650    0.799697  3.290092\n",
      "b  5.943571  4.600172      13.150601  5.943571       NaN    2.118599  2.664298\n",
      "c  0.036039  0.076899       0.569889  0.097964  0.006842    0.079720  0.016775\n",
      "d  0.046448  0.142524       0.489640  0.126259       NaN    0.056853  0.060050\n",
      "e  0.082391  0.161827       0.391243  0.223962  0.023649    0.014060  0.498991\n",
      "[[ 0.28248726 -0.91712495  0.30243703  0.28248726  0.42373089 -0.2235218\n",
      "   1.19091554]\n",
      " [ 1.78231012  1.5260937   2.57646745  1.78231012         nan  0.75075522\n",
      "   0.97994069]\n",
      " [-3.32315619 -2.56525792 -0.56231442 -2.32315619 -4.98473429 -2.52923261\n",
      "  -4.08785838]\n",
      " [-3.0694189  -1.94824163 -0.7140858  -2.0694189          nan -2.86729094\n",
      "  -2.81258263]\n",
      " [-2.49628061 -1.82122579 -0.93842639 -1.49628061 -3.74442091 -4.26441811\n",
      "  -0.69516792]]\n"
     ]
    }
   ],
   "source": [
    "#DF, так же как и series, может работать с нумпай функциями\n",
    "print np.exp(df)\n",
    "print np.asarray(df)"
   ]
  },
  {
   "cell_type": "code",
   "execution_count": 33,
   "metadata": {},
   "outputs": [
    {
     "data": {
      "text/html": [
       "<div>\n",
       "<table border=\"1\" class=\"dataframe\">\n",
       "  <thead>\n",
       "    <tr style=\"text-align: right;\">\n",
       "      <th></th>\n",
       "      <th>one</th>\n",
       "      <th>two</th>\n",
       "      <th>insert_column</th>\n",
       "      <th>flag</th>\n",
       "      <th>one_cut</th>\n",
       "      <th>new column</th>\n",
       "      <th>6</th>\n",
       "    </tr>\n",
       "  </thead>\n",
       "  <tbody>\n",
       "    <tr>\n",
       "      <th>one</th>\n",
       "      <td>29.952545</td>\n",
       "      <td>21.511909</td>\n",
       "      <td>11.080561</td>\n",
       "      <td>21.063689</td>\n",
       "      <td>NaN</td>\n",
       "      <td>29.126073</td>\n",
       "      <td>26.035897</td>\n",
       "    </tr>\n",
       "    <tr>\n",
       "      <th>two</th>\n",
       "      <td>21.511909</td>\n",
       "      <td>16.863137</td>\n",
       "      <td>8.197338</td>\n",
       "      <td>15.177184</td>\n",
       "      <td>NaN</td>\n",
       "      <td>21.191498</td>\n",
       "      <td>17.635322</td>\n",
       "    </tr>\n",
       "    <tr>\n",
       "      <th>insert_column</th>\n",
       "      <td>11.080561</td>\n",
       "      <td>8.197338</td>\n",
       "      <td>8.436413</td>\n",
       "      <td>8.865735</td>\n",
       "      <td>NaN</td>\n",
       "      <td>9.338253</td>\n",
       "      <td>7.844413</td>\n",
       "    </tr>\n",
       "    <tr>\n",
       "      <th>flag</th>\n",
       "      <td>21.063689</td>\n",
       "      <td>15.177184</td>\n",
       "      <td>8.865735</td>\n",
       "      <td>15.174833</td>\n",
       "      <td>NaN</td>\n",
       "      <td>19.465131</td>\n",
       "      <td>18.440288</td>\n",
       "    </tr>\n",
       "    <tr>\n",
       "      <th>one_cut</th>\n",
       "      <td>NaN</td>\n",
       "      <td>NaN</td>\n",
       "      <td>NaN</td>\n",
       "      <td>NaN</td>\n",
       "      <td>NaN</td>\n",
       "      <td>NaN</td>\n",
       "      <td>NaN</td>\n",
       "    </tr>\n",
       "    <tr>\n",
       "      <th>new column</th>\n",
       "      <td>29.126073</td>\n",
       "      <td>21.191498</td>\n",
       "      <td>9.338253</td>\n",
       "      <td>19.465131</td>\n",
       "      <td>NaN</td>\n",
       "      <td>33.417232</td>\n",
       "      <td>21.837624</td>\n",
       "    </tr>\n",
       "    <tr>\n",
       "      <th>6</th>\n",
       "      <td>26.035897</td>\n",
       "      <td>17.635322</td>\n",
       "      <td>7.844413</td>\n",
       "      <td>18.440288</td>\n",
       "      <td>NaN</td>\n",
       "      <td>21.837624</td>\n",
       "      <td>27.483029</td>\n",
       "    </tr>\n",
       "  </tbody>\n",
       "</table>\n",
       "</div>"
      ],
      "text/plain": [
       "                     one        two  insert_column       flag  one_cut  \\\n",
       "one            29.952545  21.511909      11.080561  21.063689      NaN   \n",
       "two            21.511909  16.863137       8.197338  15.177184      NaN   \n",
       "insert_column  11.080561   8.197338       8.436413   8.865735      NaN   \n",
       "flag           21.063689  15.177184       8.865735  15.174833      NaN   \n",
       "one_cut              NaN        NaN            NaN        NaN      NaN   \n",
       "new column     29.126073  21.191498       9.338253  19.465131      NaN   \n",
       "6              26.035897  17.635322       7.844413  18.440288      NaN   \n",
       "\n",
       "               new column          6  \n",
       "one             29.126073  26.035897  \n",
       "two             21.191498  17.635322  \n",
       "insert_column    9.338253   7.844413  \n",
       "flag            19.465131  18.440288  \n",
       "one_cut               NaN        NaN  \n",
       "new column      33.417232  21.837624  \n",
       "6               21.837624  27.483029  "
      ]
     },
     "execution_count": 33,
     "metadata": {},
     "output_type": "execute_result"
    }
   ],
   "source": [
    "#Так же работают все векторные операции\n",
    "df.T\n",
    "df.T.dot(df)"
   ]
  },
  {
   "cell_type": "code",
   "execution_count": 35,
   "metadata": {},
   "outputs": [
    {
     "data": {
      "text/html": [
       "<div>\n",
       "<table border=\"1\" class=\"dataframe\">\n",
       "  <thead>\n",
       "    <tr style=\"text-align: right;\">\n",
       "      <th></th>\n",
       "      <th>one</th>\n",
       "      <th>two</th>\n",
       "      <th>insert_column</th>\n",
       "      <th>flag</th>\n",
       "      <th>one_cut</th>\n",
       "      <th>new column</th>\n",
       "      <th>6</th>\n",
       "    </tr>\n",
       "  </thead>\n",
       "  <tbody>\n",
       "    <tr>\n",
       "      <th>a</th>\n",
       "      <td>False</td>\n",
       "      <td>False</td>\n",
       "      <td>False</td>\n",
       "      <td>False</td>\n",
       "      <td>False</td>\n",
       "      <td>False</td>\n",
       "      <td>False</td>\n",
       "    </tr>\n",
       "    <tr>\n",
       "      <th>b</th>\n",
       "      <td>False</td>\n",
       "      <td>False</td>\n",
       "      <td>False</td>\n",
       "      <td>False</td>\n",
       "      <td>True</td>\n",
       "      <td>False</td>\n",
       "      <td>False</td>\n",
       "    </tr>\n",
       "    <tr>\n",
       "      <th>c</th>\n",
       "      <td>False</td>\n",
       "      <td>False</td>\n",
       "      <td>False</td>\n",
       "      <td>False</td>\n",
       "      <td>False</td>\n",
       "      <td>False</td>\n",
       "      <td>False</td>\n",
       "    </tr>\n",
       "    <tr>\n",
       "      <th>d</th>\n",
       "      <td>False</td>\n",
       "      <td>False</td>\n",
       "      <td>False</td>\n",
       "      <td>False</td>\n",
       "      <td>True</td>\n",
       "      <td>False</td>\n",
       "      <td>False</td>\n",
       "    </tr>\n",
       "    <tr>\n",
       "      <th>e</th>\n",
       "      <td>False</td>\n",
       "      <td>False</td>\n",
       "      <td>False</td>\n",
       "      <td>False</td>\n",
       "      <td>False</td>\n",
       "      <td>False</td>\n",
       "      <td>False</td>\n",
       "    </tr>\n",
       "  </tbody>\n",
       "</table>\n",
       "</div>"
      ],
      "text/plain": [
       "     one    two insert_column   flag one_cut new column      6\n",
       "a  False  False         False  False   False      False  False\n",
       "b  False  False         False  False    True      False  False\n",
       "c  False  False         False  False   False      False  False\n",
       "d  False  False         False  False    True      False  False\n",
       "e  False  False         False  False   False      False  False"
      ]
     },
     "execution_count": 35,
     "metadata": {},
     "output_type": "execute_result"
    }
   ],
   "source": [
    "#Поиск и фильтрование пропущенных данных (NaN)\n",
    "#метод .dropna() выбраcывает все строки/столбы, где есть ячейки без данных\n",
    "df.dropna(axis=0, how='any')\n",
    "#метод .fillna() заполняет ячейки без данных конкретным значением\n",
    "df.fillna('Wolfenstein')\n",
    "#метод .isnull() позволяет получить маску истинности для df\n",
    "df.isnull()"
   ]
  },
  {
   "cell_type": "markdown",
   "metadata": {},
   "source": [
    "#### Слияние разных DataFrame-ов"
   ]
  },
  {
   "cell_type": "code",
   "execution_count": 36,
   "metadata": {
    "collapsed": true
   },
   "outputs": [],
   "source": [
    "#Метод 1 - concat\n",
    "df1 = pd.DataFrame(test_dict_2)\n",
    "df2 = pd.DataFrame(test_dict_of_series)\n",
    "lala = pd.concat([df1, df2], join='outer', keys=['x','y'])"
   ]
  },
  {
   "cell_type": "code",
   "execution_count": 37,
   "metadata": {},
   "outputs": [],
   "source": [
    "#Метод 2 - join. Слияние в стиле SQL (потом заботаю)"
   ]
  },
  {
   "cell_type": "code",
   "execution_count": 42,
   "metadata": {},
   "outputs": [
    {
     "data": {
      "text/html": [
       "<div>\n",
       "<table border=\"1\" class=\"dataframe\">\n",
       "  <thead>\n",
       "    <tr style=\"text-align: right;\">\n",
       "      <th></th>\n",
       "      <th>one</th>\n",
       "      <th>two</th>\n",
       "      <th>insert_column</th>\n",
       "      <th>flag</th>\n",
       "      <th>one_cut</th>\n",
       "      <th>new column</th>\n",
       "      <th>6</th>\n",
       "    </tr>\n",
       "  </thead>\n",
       "  <tbody>\n",
       "    <tr>\n",
       "      <th>0</th>\n",
       "      <td>0.282487</td>\n",
       "      <td>-0.917125</td>\n",
       "      <td>0.302437</td>\n",
       "      <td>0.282487</td>\n",
       "      <td>0.423731</td>\n",
       "      <td>-0.223522</td>\n",
       "      <td>1.190916</td>\n",
       "    </tr>\n",
       "    <tr>\n",
       "      <th>1</th>\n",
       "      <td>1.782310</td>\n",
       "      <td>1.526094</td>\n",
       "      <td>2.576467</td>\n",
       "      <td>1.782310</td>\n",
       "      <td>NaN</td>\n",
       "      <td>0.750755</td>\n",
       "      <td>0.979941</td>\n",
       "    </tr>\n",
       "    <tr>\n",
       "      <th>2</th>\n",
       "      <td>-3.323156</td>\n",
       "      <td>-2.565258</td>\n",
       "      <td>-0.562314</td>\n",
       "      <td>-2.323156</td>\n",
       "      <td>-4.984734</td>\n",
       "      <td>-2.529233</td>\n",
       "      <td>-4.087858</td>\n",
       "    </tr>\n",
       "    <tr>\n",
       "      <th>3</th>\n",
       "      <td>-3.069419</td>\n",
       "      <td>-1.948242</td>\n",
       "      <td>-0.714086</td>\n",
       "      <td>-2.069419</td>\n",
       "      <td>NaN</td>\n",
       "      <td>-2.867291</td>\n",
       "      <td>-2.812583</td>\n",
       "    </tr>\n",
       "    <tr>\n",
       "      <th>4</th>\n",
       "      <td>-2.496281</td>\n",
       "      <td>-1.821226</td>\n",
       "      <td>-0.938426</td>\n",
       "      <td>-1.496281</td>\n",
       "      <td>-3.744421</td>\n",
       "      <td>-4.264418</td>\n",
       "      <td>-0.695168</td>\n",
       "    </tr>\n",
       "    <tr>\n",
       "      <th>5</th>\n",
       "      <td>0.282487</td>\n",
       "      <td>-0.917125</td>\n",
       "      <td>0.302437</td>\n",
       "      <td>0.282487</td>\n",
       "      <td>0.423731</td>\n",
       "      <td>-0.223522</td>\n",
       "      <td>1.190916</td>\n",
       "    </tr>\n",
       "    <tr>\n",
       "      <th>6</th>\n",
       "      <td>1.782310</td>\n",
       "      <td>1.526094</td>\n",
       "      <td>2.576467</td>\n",
       "      <td>1.782310</td>\n",
       "      <td>NaN</td>\n",
       "      <td>0.750755</td>\n",
       "      <td>0.979941</td>\n",
       "    </tr>\n",
       "    <tr>\n",
       "      <th>7</th>\n",
       "      <td>-3.323156</td>\n",
       "      <td>-2.565258</td>\n",
       "      <td>-0.562314</td>\n",
       "      <td>-2.323156</td>\n",
       "      <td>-4.984734</td>\n",
       "      <td>-2.529233</td>\n",
       "      <td>-4.087858</td>\n",
       "    </tr>\n",
       "    <tr>\n",
       "      <th>8</th>\n",
       "      <td>-3.069419</td>\n",
       "      <td>-1.948242</td>\n",
       "      <td>-0.714086</td>\n",
       "      <td>-2.069419</td>\n",
       "      <td>NaN</td>\n",
       "      <td>-2.867291</td>\n",
       "      <td>-2.812583</td>\n",
       "    </tr>\n",
       "    <tr>\n",
       "      <th>9</th>\n",
       "      <td>-2.496281</td>\n",
       "      <td>-1.821226</td>\n",
       "      <td>-0.938426</td>\n",
       "      <td>-1.496281</td>\n",
       "      <td>-3.744421</td>\n",
       "      <td>-4.264418</td>\n",
       "      <td>-0.695168</td>\n",
       "    </tr>\n",
       "  </tbody>\n",
       "</table>\n",
       "</div>"
      ],
      "text/plain": [
       "        one       two  insert_column      flag   one_cut  new column         6\n",
       "0  0.282487 -0.917125       0.302437  0.282487  0.423731   -0.223522  1.190916\n",
       "1  1.782310  1.526094       2.576467  1.782310       NaN    0.750755  0.979941\n",
       "2 -3.323156 -2.565258      -0.562314 -2.323156 -4.984734   -2.529233 -4.087858\n",
       "3 -3.069419 -1.948242      -0.714086 -2.069419       NaN   -2.867291 -2.812583\n",
       "4 -2.496281 -1.821226      -0.938426 -1.496281 -3.744421   -4.264418 -0.695168\n",
       "5  0.282487 -0.917125       0.302437  0.282487  0.423731   -0.223522  1.190916\n",
       "6  1.782310  1.526094       2.576467  1.782310       NaN    0.750755  0.979941\n",
       "7 -3.323156 -2.565258      -0.562314 -2.323156 -4.984734   -2.529233 -4.087858\n",
       "8 -3.069419 -1.948242      -0.714086 -2.069419       NaN   -2.867291 -2.812583\n",
       "9 -2.496281 -1.821226      -0.938426 -1.496281 -3.744421   -4.264418 -0.695168"
      ]
     },
     "execution_count": 42,
     "metadata": {},
     "output_type": "execute_result"
    }
   ],
   "source": [
    "#Метод 3 - append. \n",
    "df.append([df.iloc[0:3], df.iloc[3:7]], ignore_index=True)"
   ]
  },
  {
   "cell_type": "markdown",
   "metadata": {},
   "source": [
    "#### Чтение данных из и запись в файл. "
   ]
  },
  {
   "cell_type": "code",
   "execution_count": 46,
   "metadata": {},
   "outputs": [
    {
     "data": {
      "text/html": [
       "<div>\n",
       "<table border=\"1\" class=\"dataframe\">\n",
       "  <thead>\n",
       "    <tr style=\"text-align: right;\">\n",
       "      <th></th>\n",
       "      <th>one</th>\n",
       "      <th>two</th>\n",
       "      <th>insert_column</th>\n",
       "      <th>flag</th>\n",
       "      <th>one_cut</th>\n",
       "      <th>new column</th>\n",
       "      <th>6</th>\n",
       "    </tr>\n",
       "  </thead>\n",
       "  <tbody>\n",
       "    <tr>\n",
       "      <th>a</th>\n",
       "      <td>0.282487</td>\n",
       "      <td>-0.917125</td>\n",
       "      <td>0.302437</td>\n",
       "      <td>0.282487</td>\n",
       "      <td>0.423731</td>\n",
       "      <td>-0.223522</td>\n",
       "      <td>1.190916</td>\n",
       "    </tr>\n",
       "    <tr>\n",
       "      <th>b</th>\n",
       "      <td>1.782310</td>\n",
       "      <td>1.526094</td>\n",
       "      <td>2.576467</td>\n",
       "      <td>1.782310</td>\n",
       "      <td>NaN</td>\n",
       "      <td>0.750755</td>\n",
       "      <td>0.979941</td>\n",
       "    </tr>\n",
       "    <tr>\n",
       "      <th>c</th>\n",
       "      <td>-3.323156</td>\n",
       "      <td>-2.565258</td>\n",
       "      <td>-0.562314</td>\n",
       "      <td>-2.323156</td>\n",
       "      <td>-4.984734</td>\n",
       "      <td>-2.529233</td>\n",
       "      <td>-4.087858</td>\n",
       "    </tr>\n",
       "    <tr>\n",
       "      <th>d</th>\n",
       "      <td>-3.069419</td>\n",
       "      <td>-1.948242</td>\n",
       "      <td>-0.714086</td>\n",
       "      <td>-2.069419</td>\n",
       "      <td>NaN</td>\n",
       "      <td>-2.867291</td>\n",
       "      <td>-2.812583</td>\n",
       "    </tr>\n",
       "    <tr>\n",
       "      <th>e</th>\n",
       "      <td>-2.496281</td>\n",
       "      <td>-1.821226</td>\n",
       "      <td>-0.938426</td>\n",
       "      <td>-1.496281</td>\n",
       "      <td>-3.744421</td>\n",
       "      <td>-4.264418</td>\n",
       "      <td>-0.695168</td>\n",
       "    </tr>\n",
       "  </tbody>\n",
       "</table>\n",
       "</div>"
      ],
      "text/plain": [
       "        one       two  insert_column      flag   one_cut  new column         6\n",
       "a  0.282487 -0.917125       0.302437  0.282487  0.423731   -0.223522  1.190916\n",
       "b  1.782310  1.526094       2.576467  1.782310       NaN    0.750755  0.979941\n",
       "c -3.323156 -2.565258      -0.562314 -2.323156 -4.984734   -2.529233 -4.087858\n",
       "d -3.069419 -1.948242      -0.714086 -2.069419       NaN   -2.867291 -2.812583\n",
       "e -2.496281 -1.821226      -0.938426 -1.496281 -3.744421   -4.264418 -0.695168"
      ]
     },
     "execution_count": 46,
     "metadata": {},
     "output_type": "execute_result"
    }
   ],
   "source": [
    "#из/в .scv\n",
    "df.to_csv('file_name.csv')\n",
    "pd.read_csv('file_name.csv', index_col=0)"
   ]
  },
  {
   "cell_type": "code",
   "execution_count": null,
   "metadata": {
    "collapsed": true
   },
   "outputs": [],
   "source": [
    "#так же есть записи в excel html и прочие штуки"
   ]
  }
 ],
 "metadata": {
  "anaconda-cloud": {},
  "kernelspec": {
   "display_name": "Python 2",
   "language": "python",
   "name": "python2"
  },
  "language_info": {
   "codemirror_mode": {
    "name": "ipython",
    "version": 2
   },
   "file_extension": ".py",
   "mimetype": "text/x-python",
   "name": "python",
   "nbconvert_exporter": "python",
   "pygments_lexer": "ipython2",
   "version": "2.7.13"
  }
 },
 "nbformat": 4,
 "nbformat_minor": 1
}
