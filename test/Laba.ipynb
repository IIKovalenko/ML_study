{
 "cells": [
  {
   "cell_type": "code",
   "execution_count": 20,
   "metadata": {},
   "outputs": [],
   "source": [
    "import pandas as pd\n",
    "import numpy as np\n",
    "import matplotlib.pyplot as plt\n",
    "import sklearn.metrics\n",
    "%matplotlib inline"
   ]
  },
  {
   "cell_type": "code",
   "execution_count": 21,
   "metadata": {
    "collapsed": true
   },
   "outputs": [],
   "source": [
    "L = 0.985"
   ]
  },
  {
   "cell_type": "code",
   "execution_count": 22,
   "metadata": {},
   "outputs": [],
   "source": [
    "data = pd.DataFrame({'v': pd.Series([60, 80, 100, 110, 70, 90]), \n",
    "                     'd': pd.Series([11, 14.5, 18, 20, 12.5, 16])})"
   ]
  },
  {
   "cell_type": "code",
   "execution_count": 23,
   "metadata": {
    "collapsed": true
   },
   "outputs": [],
   "source": [
    "data['v'] = data['v']*1e+6\n",
    "data['d'] = data['d']*1e-3"
   ]
  },
  {
   "cell_type": "code",
   "execution_count": 24,
   "metadata": {
    "collapsed": true
   },
   "outputs": [],
   "source": [
    "data['sinO'] = data['d']/np.sqrt(L**2 + data['d']**2)"
   ]
  },
  {
   "cell_type": "code",
   "execution_count": 25,
   "metadata": {},
   "outputs": [
    {
     "data": {
      "text/html": [
       "<div>\n",
       "<table border=\"1\" class=\"dataframe\">\n",
       "  <thead>\n",
       "    <tr style=\"text-align: right;\">\n",
       "      <th></th>\n",
       "      <th>d</th>\n",
       "      <th>v</th>\n",
       "      <th>sinO</th>\n",
       "    </tr>\n",
       "  </thead>\n",
       "  <tbody>\n",
       "    <tr>\n",
       "      <th>0</th>\n",
       "      <td>0.0110</td>\n",
       "      <td>60000000.0</td>\n",
       "      <td>0.011167</td>\n",
       "    </tr>\n",
       "    <tr>\n",
       "      <th>1</th>\n",
       "      <td>0.0145</td>\n",
       "      <td>80000000.0</td>\n",
       "      <td>0.014719</td>\n",
       "    </tr>\n",
       "    <tr>\n",
       "      <th>2</th>\n",
       "      <td>0.0180</td>\n",
       "      <td>100000000.0</td>\n",
       "      <td>0.018271</td>\n",
       "    </tr>\n",
       "    <tr>\n",
       "      <th>3</th>\n",
       "      <td>0.0200</td>\n",
       "      <td>110000000.0</td>\n",
       "      <td>0.020300</td>\n",
       "    </tr>\n",
       "    <tr>\n",
       "      <th>4</th>\n",
       "      <td>0.0125</td>\n",
       "      <td>70000000.0</td>\n",
       "      <td>0.012689</td>\n",
       "    </tr>\n",
       "    <tr>\n",
       "      <th>5</th>\n",
       "      <td>0.0160</td>\n",
       "      <td>90000000.0</td>\n",
       "      <td>0.016242</td>\n",
       "    </tr>\n",
       "  </tbody>\n",
       "</table>\n",
       "</div>"
      ],
      "text/plain": [
       "        d            v      sinO\n",
       "0  0.0110   60000000.0  0.011167\n",
       "1  0.0145   80000000.0  0.014719\n",
       "2  0.0180  100000000.0  0.018271\n",
       "3  0.0200  110000000.0  0.020300\n",
       "4  0.0125   70000000.0  0.012689\n",
       "5  0.0160   90000000.0  0.016242"
      ]
     },
     "execution_count": 25,
     "metadata": {},
     "output_type": "execute_result"
    }
   ],
   "source": [
    "data"
   ]
  },
  {
   "cell_type": "code",
   "execution_count": 26,
   "metadata": {},
   "outputs": [
    {
     "name": "stdout",
     "output_type": "stream",
     "text": [
      "Тангенс угла наклона - 1.8267233450276634e-10\n"
     ]
    },
    {
     "data": {
      "text/plain": [
       "<matplotlib.figure.Figure at 0x1137c2d30>"
      ]
     },
     "metadata": {},
     "output_type": "display_data"
    },
    {
     "data": {
      "image/png": "[encoded data removed]",
      "text/plain": [
       "<matplotlib.figure.Figure at 0x10f24b908>"
      ]
     },
     "metadata": {},
     "output_type": "display_data"
    }
   ],
   "source": [
    "plt.figure()\n",
    "p = np.polyfit(data['v'], data['sinO'], 1)\n",
    "z = np.poly1d(p)\n",
    "ax = data.plot(x='v', y='sinO', kind='scatter', title='Зависимость угла от частоты при диффракции на ультразвуке')\n",
    "plt.plot(data['v'], z(data['v']))\n",
    "ax.set_xlabel('v, Hz')\n",
    "ax.set_ylabel('Sin(O)')\n",
    "print('Тангенс угла наклона - {}'.format(p[0]))"
   ]
  },
  {
   "cell_type": "code",
   "execution_count": 27,
   "metadata": {},
   "outputs": [
    {
     "name": "stdout",
     "output_type": "stream",
     "text": [
      "Скорость звука равна 1732.0630453496972 м/с\n"
     ]
    }
   ],
   "source": [
    "lyambda = 0.6328*1e-6\n",
    "print(('Скорость звука равна {} м/с').format(1/(p[0]*(2/lyambda))))"
   ]
  },
  {
   "cell_type": "markdown",
   "metadata": {},
   "source": [
    "### Определение эффективности"
   ]
  },
  {
   "cell_type": "code",
   "execution_count": 28,
   "metadata": {
    "collapsed": true
   },
   "outputs": [],
   "source": [
    "data['I(-1)'] = pd.Series([2, 1.5, 2, 2, 2.2, 2])\n",
    "data['I(0)'] = pd.Series([8, 9, 9, 9, 9, 9])\n",
    "data['j'] = pd.Series([100, 77, 97, 80, 85, 100])\n",
    "data['j'] = data['j']*1e-3\n",
    "data['U'] = pd.Series([13, 15.7, 17.3, 19.2, 18.9, 17.9])\n",
    "data['I(-1)/I(0)'] = data['I(-1)']/data['I(0)']\n",
    "data['P'] = data['j']*data['U']"
   ]
  },
  {
   "cell_type": "code",
   "execution_count": 29,
   "metadata": {},
   "outputs": [
    {
     "data": {
      "text/plain": [
       "[<matplotlib.lines.Line2D at 0x113747d30>]"
      ]
     },
     "execution_count": 29,
     "metadata": {},
     "output_type": "execute_result"
    },
    {
     "data": {
      "text/plain": [
       "<matplotlib.figure.Figure at 0x113747e80>"
      ]
     },
     "metadata": {},
     "output_type": "display_data"
    },
    {
     "data": {
      "image/png": "[encoded data removed]",
      "text/plain": [
       "<matplotlib.figure.Figure at 0x1137c2080>"
      ]
     },
     "metadata": {},
     "output_type": "display_data"
    }
   ],
   "source": [
    "plt.figure()\n",
    "data.plot(y = 'I(-1)/I(0)', x = 'P' , kind = 'scatter')\n",
    "z1 = np.poly1d(np.polyfit(data['P'], data['I(-1)/I(0)'], 1))\n",
    "plt.plot(data['P'], z1(data['P']))"
   ]
  },
  {
   "cell_type": "code",
   "execution_count": 30,
   "metadata": {},
   "outputs": [],
   "source": [
    "n = np.polyfit(data['P'], data['I(-1)/I(0)'], 1)[0]"
   ]
  },
  {
   "cell_type": "code",
   "execution_count": 31,
   "metadata": {},
   "outputs": [
    {
     "name": "stdout",
     "output_type": "stream",
     "text": [
      "Потери равны n = 0.0522\n"
     ]
    }
   ],
   "source": [
    "print('Потери равны n = {}'.format(n.round(4)))"
   ]
  },
  {
   "cell_type": "markdown",
   "metadata": {},
   "source": [
    "### Определение рабочих потерь"
   ]
  },
  {
   "cell_type": "code",
   "execution_count": 71,
   "metadata": {
    "collapsed": true
   },
   "outputs": [],
   "source": [
    "M2 = 3.6*1e-10#Cm^2/Вт\n",
    "H = 0.25 #cм\n",
    "L = 0.1 #cм\n",
    "N = 2.38"
   ]
  },
  {
   "cell_type": "code",
   "execution_count": 74,
   "metadata": {},
   "outputs": [],
   "source": [
    "Pa = data['I(-1)/I(0)'].mean()*(2*H/(L*M2))*((lyambda*1e2)**2*N**2*(1-(data['sinO'].mean())**2))/np.pi**2"
   ]
  },
  {
   "cell_type": "code",
   "execution_count": 80,
   "metadata": {},
   "outputs": [
    {
     "data": {
      "text/plain": [
       "7.0619320355873985"
      ]
     },
     "execution_count": 80,
     "metadata": {},
     "output_type": "execute_result"
    }
   ],
   "source": [
    "Pa"
   ]
  },
  {
   "cell_type": "code",
   "execution_count": 77,
   "metadata": {
    "collapsed": true
   },
   "outputs": [],
   "source": [
    "W = -10*np.log10(data['P'].mean()/Pa)"
   ]
  },
  {
   "cell_type": "code",
   "execution_count": 79,
   "metadata": {},
   "outputs": [
    {
     "name": "stdout",
     "output_type": "stream",
     "text": [
      "Рабочие потери равны 6.671037562862365 децибел\n"
     ]
    }
   ],
   "source": [
    "print('Рабочие потери равны {} децибел'.format(W))"
   ]
  },
  {
   "cell_type": "code",
   "execution_count": null,
   "metadata": {
    "collapsed": true
   },
   "outputs": [],
   "source": []
  }
 ],
 "metadata": {
  "kernelspec": {
   "display_name": "Python 2",
   "language": "python",
   "name": "python2"
  },
  "language_info": {
   "codemirror_mode": {
    "name": "ipython",
    "version": 2
   },
   "file_extension": ".py",
   "mimetype": "text/x-python",
   "name": "python",
   "nbconvert_exporter": "python",
   "pygments_lexer": "ipython2",
   "version": "2.7.13"
  }
 },
 "nbformat": 4,
 "nbformat_minor": 2
}
